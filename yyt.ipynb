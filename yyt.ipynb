{
 "cells": [
  {
   "cell_type": "code",
   "execution_count": 9,
   "metadata": {},
   "outputs": [
    {
     "ename": "NameError",
     "evalue": "name 'id_2_operation' is not defined",
     "output_type": "error",
     "traceback": [
      "\u001b[1;31m---------------------------------------------------------------------------\u001b[0m",
      "\u001b[1;31mNameError\u001b[0m                                 Traceback (most recent call last)",
      "\u001b[1;32m<ipython-input-9-88faa479059c>\u001b[0m in \u001b[0;36m<module>\u001b[1;34m()\u001b[0m\n\u001b[0;32m     25\u001b[0m \u001b[1;33m\u001b[0m\u001b[0m\n\u001b[0;32m     26\u001b[0m \u001b[0mid2operation\u001b[0m\u001b[1;33m[\u001b[0m\u001b[1;36m10000\u001b[0m\u001b[1;33m]\u001b[0m\u001b[1;33m\u001b[0m\u001b[0m\n\u001b[1;32m---> 27\u001b[1;33m \u001b[0mgroup_o\u001b[0m\u001b[1;33m=\u001b[0m\u001b[0mid_2_operation\u001b[0m\u001b[1;33m[\u001b[0m\u001b[1;36m10000\u001b[0m\u001b[1;33m]\u001b[0m\u001b[1;33m\u001b[0m\u001b[0m\n\u001b[0m\u001b[0;32m     28\u001b[0m \u001b[0mgroup_t\u001b[0m\u001b[1;33m=\u001b[0m\u001b[0mid_2_transaction\u001b[0m\u001b[1;33m[\u001b[0m\u001b[1;36m10000\u001b[0m\u001b[1;33m]\u001b[0m\u001b[1;33m\u001b[0m\u001b[0m\n\u001b[0;32m     29\u001b[0m \u001b[0mgroup_t\u001b[0m\u001b[1;33m.\u001b[0m\u001b[0mshape\u001b[0m\u001b[1;33m[\u001b[0m\u001b[1;36m0\u001b[0m\u001b[1;33m]\u001b[0m\u001b[1;33m\u001b[0m\u001b[0m\n",
      "\u001b[1;31mNameError\u001b[0m: name 'id_2_operation' is not defined"
     ]
    }
   ],
   "source": [
    "import pandas as pd\n",
    "import numpy as np\n",
    "# 读取数据\n",
    "dir_path = '../tcjr/'\n",
    "operation_train_path = dir_path + 'operation_train_new.csv'\n",
    "transaction_train_path = dir_path + 'transaction_train_new.csv'\n",
    "tag_train_path = dir_path + 'tag_train_new.csv'\n",
    "operation_df = pd.read_csv(operation_train_path)\n",
    "transaction_df = pd.read_csv(transaction_train_path)\n",
    "tag_df = pd.read_csv(tag_train_path)\n",
    "# 根据UID分组\n",
    "operation_grouped = operation_df.groupby('UID')\n",
    "transaction_grouped = transaction_df.groupby('UID')\n",
    "id2transaction={}\n",
    "id2operation={}\n",
    "for name,group in operation_grouped:\n",
    "    id2operation[name] = group\n",
    "    \n",
    "\n",
    "\n",
    "for name,group in transaction_grouped:\n",
    "    id2transaction[name] = group\n",
    "# 标签数据,\n",
    "id2tag=dict(tag_df.values.tolist())\n",
    "\n",
    "id2operation[10000]\n",
    "group_o=id2operation[10000]\n",
    "group_t=id2transaction[10000]\n",
    "group_t.shape[0]"
   ]
  }
 ],
 "metadata": {
  "kernelspec": {
   "display_name": "Python 3",
   "language": "python",
   "name": "python3"
  },
  "language_info": {
   "codemirror_mode": {
    "name": "ipython",
    "version": 3
   },
   "file_extension": ".py",
   "mimetype": "text/x-python",
   "name": "python",
   "nbconvert_exporter": "python",
   "pygments_lexer": "ipython3",
   "version": "3.5.4"
  }
 },
 "nbformat": 4,
 "nbformat_minor": 2
}
